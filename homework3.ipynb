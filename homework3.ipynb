{
  "nbformat": 4,
  "nbformat_minor": 0,
  "metadata": {
    "colab": {
      "provenance": [],
      "authorship_tag": "ABX9TyMqoRHApa196og9Kz04TKMF",
      "include_colab_link": true
    },
    "kernelspec": {
      "name": "python3",
      "display_name": "Python 3"
    },
    "language_info": {
      "name": "python"
    }
  },
  "cells": [
    {
      "cell_type": "markdown",
      "metadata": {
        "id": "view-in-github",
        "colab_type": "text"
      },
      "source": [
        "<a href=\"https://colab.research.google.com/github/leonidsanov/apache_spark/blob/main/homework3.ipynb\" target=\"_parent\"><img src=\"https://colab.research.google.com/assets/colab-badge.svg\" alt=\"Open In Colab\"/></a>"
      ]
    },
    {
      "cell_type": "markdown",
      "source": [
        "# Домашняя работа к третьему семинару"
      ],
      "metadata": {
        "id": "QySa8EqsDvGW"
      }
    },
    {
      "cell_type": "markdown",
      "source": [
        "Условия:\n",
        "\n",
        "есть набор данных о продажах продуктов с информацией о дате продаж, категории продукта, количестве и выручке от продаж.\n",
        "\n",
        "Используя Apache Spark, загрузите предоставленный набор данных в DataFrame (пример данных ниже).\n",
        "\n",
        "(\"2023-11-20\", \"Electronics\", 100, 12000),\n",
        "\n",
        "(\"2023-11-21\", \"Electronics\", 110, 13000),\n",
        "\n",
        "(\"2023-11-22\", \"Electronics\", 105, 12500),\n",
        "\n",
        "(\"2023-11-20\", \"Clothing\", 300, 15000),\n",
        "\n",
        "(\"2023-11-21\", \"Clothing\", 280, 14000),\n",
        "\n",
        "(\"2023-11-22\", \"Clothing\", 320, 16000),\n",
        "\n",
        "(\"2023-11-20\", \"Books\", 150, 9000),\n",
        "\n",
        "(\"2023-11-21\", \"Books\", 200, 12000),\n",
        "\n",
        "(\"2023-11-22\", \"Books\", 180, 10000)\n",
        "\n",
        "Столбцы: \"date\", \"category\", \"quantity\", \"revenue\".\n",
        "\n",
        "С использованием оконных функций, рассчитайте среднее выручки от продаж для каждой категории продукта.\n",
        "Примените операцию pivot для того, чтобы преобразовать полученные данные таким образом, чтобы в качестве строк были категории продуктов, в качестве столбцов были дни, а значениями были средние значения выручки от продаж за соответствующий день."
      ],
      "metadata": {
        "id": "SP6yfd0TD9ym"
      }
    },
    {
      "cell_type": "code",
      "execution_count": null,
      "metadata": {
        "id": "i7MJvo6TDmZ8"
      },
      "outputs": [],
      "source": [
        "!pip install pyspark >> None"
      ]
    },
    {
      "cell_type": "code",
      "source": [
        "from pyspark.sql import SparkSession\n",
        "from pyspark.sql.functions import col, avg\n",
        "from pyspark.sql.window import Window"
      ],
      "metadata": {
        "id": "glKS_kFPYwNj"
      },
      "execution_count": null,
      "outputs": []
    },
    {
      "cell_type": "code",
      "source": [
        "# Инициализация SparkSession\n",
        "spark = SparkSession.builder.appName(\"SalesDataAnalysis\").getOrCreate()"
      ],
      "metadata": {
        "id": "ZDxK18AbZuHl"
      },
      "execution_count": null,
      "outputs": []
    },
    {
      "cell_type": "code",
      "source": [
        "# Создание DataFrame с данными о продажах\n",
        "sales_data = [\n",
        "    (\"2023-11-20\", \"Electronics\", 100, 12000),\n",
        "    (\"2023-11-21\", \"Electronics\", 110, 13000),\n",
        "    (\"2023-11-22\", \"Electronics\", 105, 12500),\n",
        "    (\"2023-11-20\", \"Clothing\", 300, 15000),\n",
        "    (\"2023-11-21\", \"Clothing\", 280, 14000),\n",
        "    (\"2023-11-22\", \"Clothing\", 320, 16000),\n",
        "    (\"2023-11-20\", \"Books\", 150, 9000),\n",
        "    (\"2023-11-21\", \"Books\", 200, 12000),\n",
        "    (\"2023-11-22\", \"Books\", 180, 10000)\n",
        "]"
      ],
      "metadata": {
        "id": "I4AxHz9nabeS"
      },
      "execution_count": null,
      "outputs": []
    },
    {
      "cell_type": "code",
      "source": [
        "# Определение схемы DataFrame\n",
        "schema = [\"date\", \"category\", \"quantity\", \"revenue\"]"
      ],
      "metadata": {
        "id": "BaZgHGKbbavx"
      },
      "execution_count": null,
      "outputs": []
    },
    {
      "cell_type": "code",
      "source": [
        "# Загрузка данных в DataFrame\n",
        "df = spark.createDataFrame(data=sales_data, schema=schema)"
      ],
      "metadata": {
        "id": "I5zXnWh9b_oy"
      },
      "execution_count": null,
      "outputs": []
    },
    {
      "cell_type": "code",
      "source": [
        "# Определение оконной функции для расчёта средней выручки\n",
        "windowSpec = Window.partitionBy(\"category\")"
      ],
      "metadata": {
        "id": "tmJLKSoOcsz8"
      },
      "execution_count": null,
      "outputs": []
    },
    {
      "cell_type": "code",
      "source": [
        "# Расчёт средней выручки для каждой категории\n",
        "average_revenue = df.withColumn(\"avg_revenue\", avg(col(\"revenue\")).over(windowSpec))"
      ],
      "metadata": {
        "id": "w0h665mmdZex"
      },
      "execution_count": null,
      "outputs": []
    },
    {
      "cell_type": "code",
      "source": [
        "# Применение операции pivot\n",
        "pivot_df = average_revenue.groupBy(\"category\").pivot(\"date\").avg(\"revenue\")"
      ],
      "metadata": {
        "id": "BeMTc-x6edpY"
      },
      "execution_count": null,
      "outputs": []
    },
    {
      "cell_type": "code",
      "source": [
        "# Показать результат\n",
        "pivot_df.show()"
      ],
      "metadata": {
        "colab": {
          "base_uri": "https://localhost:8080/"
        },
        "id": "MhP9ExY4fKVQ",
        "outputId": "397cabbe-05e0-42f7-9ccc-c4833dcd5c40"
      },
      "execution_count": null,
      "outputs": [
        {
          "output_type": "stream",
          "name": "stdout",
          "text": [
            "+-----------+----------+----------+----------+\n",
            "|   category|2023-11-20|2023-11-21|2023-11-22|\n",
            "+-----------+----------+----------+----------+\n",
            "|Electronics|   12000.0|   13000.0|   12500.0|\n",
            "|   Clothing|   15000.0|   14000.0|   16000.0|\n",
            "|      Books|    9000.0|   12000.0|   10000.0|\n",
            "+-----------+----------+----------+----------+\n",
            "\n"
          ]
        }
      ]
    },
    {
      "cell_type": "code",
      "source": [
        "# Завершение работы SparkSession\n",
        "spark.stop()"
      ],
      "metadata": {
        "id": "eiTqpPMNfYOg"
      },
      "execution_count": null,
      "outputs": []
    }
  ]
}