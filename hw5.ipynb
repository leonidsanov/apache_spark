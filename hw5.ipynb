{
  "nbformat": 4,
  "nbformat_minor": 0,
  "metadata": {
    "colab": {
      "provenance": [],
      "mount_file_id": "1VBF31hrAJ8jKbVrrAACD-IkQyjjlz0pk",
      "authorship_tag": "ABX9TyNRGbkuO/yZC4ieHjdFc5Gg",
      "include_colab_link": true
    },
    "kernelspec": {
      "name": "python3",
      "display_name": "Python 3"
    },
    "language_info": {
      "name": "python"
    }
  },
  "cells": [
    {
      "cell_type": "markdown",
      "metadata": {
        "id": "view-in-github",
        "colab_type": "text"
      },
      "source": [
        "<a href=\"https://colab.research.google.com/github/leonidsanov/apache_spark/blob/main/hw5.ipynb\" target=\"_parent\"><img src=\"https://colab.research.google.com/assets/colab-badge.svg\" alt=\"Open In Colab\"/></a>"
      ]
    },
    {
      "cell_type": "markdown",
      "source": [
        "# Домашнее задание к пятому семинару\n",
        "\n",
        "Условие: создайте csv файл с таким содержимым:\n",
        "\n",
        "title,author,genre,sales,year\n",
        "\n",
        "\"1984\", \"George Orwell\", \"Science Fiction\", 5000, 1949\n",
        "\n",
        "\"The Lord of the Rings\", \"J.R.R. Tolkien\", \"Fantasy\", 3000, 1954\n",
        "\n",
        "\"To Kill a Mockingbird\", \"Harper Lee\", \"Southern Gothic\", 4000, 1960\n",
        "\n",
        "\"The Catcher in the Rye\", \"J.D. Salinger\", \"Novel\", 2000, 1951\n",
        "\n",
        "\"The Great Gatsby\", \"F. Scott Fitzgerald\", \"Novel\", 4500, 1925\n",
        "\n",
        "Задание:\n",
        "\n",
        "— Используя Spark прочитайте данные из файла csv.\n",
        "\n",
        "— Фильтруйте данные, чтобы оставить только книги, продажи которых превышают 3000 экземпляров.\n",
        "\n",
        "— Сгруппируйте данные по жанру и вычислите общий объем продаж для каждого жанра.\n",
        "\n",
        "— Отсортируйте данные по общему объему продаж в порядке убывания.\n",
        "\n",
        "— Выведите результаты на экран."
      ],
      "metadata": {
        "id": "yqt2QWaX6jhU"
      }
    },
    {
      "cell_type": "code",
      "source": [
        "!pip install pyspark #>> None"
      ],
      "metadata": {
        "colab": {
          "base_uri": "https://localhost:8080/"
        },
        "id": "JUu281IhPwXq",
        "outputId": "294ff13f-78cb-47e3-ea28-566d34e25c35"
      },
      "execution_count": 1,
      "outputs": [
        {
          "output_type": "stream",
          "name": "stdout",
          "text": [
            "Collecting pyspark\n",
            "  Downloading pyspark-3.5.1.tar.gz (317.0 MB)\n",
            "\u001b[2K     \u001b[90m━━━━━━━━━━━━━━━━━━━━━━━━━━━━━━━━━━━━━━━━\u001b[0m \u001b[32m317.0/317.0 MB\u001b[0m \u001b[31m3.4 MB/s\u001b[0m eta \u001b[36m0:00:00\u001b[0m\n",
            "\u001b[?25h  Preparing metadata (setup.py) ... \u001b[?25l\u001b[?25hdone\n",
            "Requirement already satisfied: py4j==0.10.9.7 in /usr/local/lib/python3.10/dist-packages (from pyspark) (0.10.9.7)\n",
            "Building wheels for collected packages: pyspark\n",
            "  Building wheel for pyspark (setup.py) ... \u001b[?25l\u001b[?25hdone\n",
            "  Created wheel for pyspark: filename=pyspark-3.5.1-py2.py3-none-any.whl size=317488491 sha256=15582d7e841ed2e51d8bf9baa314a55cbcf2acca1b4480bbfc08fbcd16a01b95\n",
            "  Stored in directory: /root/.cache/pip/wheels/80/1d/60/2c256ed38dddce2fdd93be545214a63e02fbd8d74fb0b7f3a6\n",
            "Successfully built pyspark\n",
            "Installing collected packages: pyspark\n",
            "Successfully installed pyspark-3.5.1\n"
          ]
        }
      ]
    },
    {
      "cell_type": "code",
      "execution_count": 2,
      "metadata": {
        "id": "5tAYJ_S86gBV"
      },
      "outputs": [],
      "source": [
        "from pyspark.sql import SparkSession\n",
        "from pyspark.sql.functions import sum"
      ]
    },
    {
      "cell_type": "code",
      "source": [
        "# Инициализация Spark Session\n",
        "spark = SparkSession.builder.appName(\"BooksSalesAnalysis\").getOrCreate()"
      ],
      "metadata": {
        "id": "EO7EtDhjP2pY"
      },
      "execution_count": 3,
      "outputs": []
    },
    {
      "cell_type": "code",
      "source": [
        "# Чтение данных из CSV файла\n",
        "df = spark.read.csv(\"/content/drive/MyDrive/GeekBrains/09. Пакет Digital-master/64. Spark Apache (семинары)/Урок 5. Spark on scala/books.csv\", header=True, inferSchema=True)"
      ],
      "metadata": {
        "id": "4AZHvk-AP5H4"
      },
      "execution_count": 4,
      "outputs": []
    },
    {
      "cell_type": "code",
      "source": [
        "# Фильтрация данных для книг с продажами более 3000 экземпляров\n",
        "filtered_df = df.filter(df.sales > 3000)"
      ],
      "metadata": {
        "id": "Uj5DSHVQP90Q"
      },
      "execution_count": 5,
      "outputs": []
    },
    {
      "cell_type": "code",
      "source": [
        "# Группировка данных по жанру и подсчет общего объема продаж для каждого жанра\n",
        "genre_sales = filtered_df.groupBy(\"genre\").agg(sum(\"sales\").alias(\"total_sales\"))"
      ],
      "metadata": {
        "id": "AR0uR9ZpQBGA"
      },
      "execution_count": 6,
      "outputs": []
    },
    {
      "cell_type": "code",
      "source": [
        "# Сортировка данных по общему объему продаж в порядке убывания\n",
        "sorted_genre_sales = genre_sales.orderBy(\"total_sales\", ascending=False)"
      ],
      "metadata": {
        "id": "BVHFTvhCQDgR"
      },
      "execution_count": 7,
      "outputs": []
    },
    {
      "cell_type": "code",
      "source": [
        "# Вывод результатов\n",
        "sorted_genre_sales.show()"
      ],
      "metadata": {
        "colab": {
          "base_uri": "https://localhost:8080/"
        },
        "id": "nnewlbbkQGAZ",
        "outputId": "225090cd-bc1d-4a52-a2c8-73f2c7978665"
      },
      "execution_count": 8,
      "outputs": [
        {
          "output_type": "stream",
          "name": "stdout",
          "text": [
            "+---------------+-----------+\n",
            "|          genre|total_sales|\n",
            "+---------------+-----------+\n",
            "|Science Fiction|       5000|\n",
            "|          Novel|       4500|\n",
            "|Southern Gothic|       4000|\n",
            "+---------------+-----------+\n",
            "\n"
          ]
        }
      ]
    }
  ]
}